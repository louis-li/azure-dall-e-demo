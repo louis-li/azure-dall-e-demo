{
 "cells": [
  {
   "cell_type": "code",
   "execution_count": 1,
   "metadata": {},
   "outputs": [
    {
     "name": "stderr",
     "output_type": "stream",
     "text": [
      "Failure while loading azureml_run_type_providers. Failed to load entrypoint hyperdrive = azureml.train.hyperdrive:HyperDriveRun._from_run_dto with exception (cryptography 2.9.2 (c:\\users\\louisli\\miniconda3\\lib\\site-packages), Requirement.parse('cryptography>=3.3.1; extra == \"crypto\"'), {'PyJWT'}).\n",
      "Failure while loading azureml_run_type_providers. Failed to load entrypoint automl = azureml.train.automl.run:AutoMLRun._from_run_dto with exception (msal-extensions 1.0.0 (c:\\users\\louisli\\miniconda3\\lib\\site-packages), Requirement.parse('msal-extensions~=0.3.0'), {'azure-identity'}).\n",
      "Failure while loading azureml_run_type_providers. Failed to load entrypoint azureml.PipelineRun = azureml.pipeline.core.run:PipelineRun._from_dto with exception (cryptography 2.9.2 (c:\\users\\louisli\\miniconda3\\lib\\site-packages), Requirement.parse('cryptography>=3.3.1; extra == \"crypto\"'), {'PyJWT'}).\n",
      "Failure while loading azureml_run_type_providers. Failed to load entrypoint azureml.ReusedStepRun = azureml.pipeline.core.run:StepRun._from_reused_dto with exception (cryptography 2.9.2 (c:\\users\\louisli\\miniconda3\\lib\\site-packages), Requirement.parse('cryptography>=3.3.1; extra == \"crypto\"'), {'PyJWT'}).\n",
      "Failure while loading azureml_run_type_providers. Failed to load entrypoint azureml.StepRun = azureml.pipeline.core.run:StepRun._from_dto with exception (cryptography 2.9.2 (c:\\users\\louisli\\miniconda3\\lib\\site-packages), Requirement.parse('cryptography>=3.3.1; extra == \"crypto\"'), {'PyJWT'}).\n",
      "Failure while loading azureml_run_type_providers. Failed to load entrypoint azureml.scriptrun = azureml.core.script_run:ScriptRun._from_run_dto with exception (cryptography 2.9.2 (c:\\users\\louisli\\miniconda3\\lib\\site-packages), Requirement.parse('cryptography>=3.3.1; extra == \"crypto\"'), {'PyJWT'}).\n"
     ]
    }
   ],
   "source": [
    "import json, os\n",
    "from azureml.core import Workspace\n",
    "import base64, io\n",
    "from PIL import Image\n",
    "import numpy as np\n",
    "import azure.cognitiveservices.speech as speechsdk\n",
    "from utils import authenticate_client, entity_linking, key_phrase_extraction, draw_image"
   ]
  },
  {
   "cell_type": "code",
   "execution_count": 2,
   "metadata": {},
   "outputs": [
    {
     "name": "stdout",
     "output_type": "stream",
     "text": [
      "0 - Exit\n",
      "Any number else to test\n",
      "Say something...\n",
      "Recognized: Sunset at the lakes of Muskoka.\n",
      "\tKey Phrases:\n",
      "\t\t Sunset\n",
      "\t\t lakes\n",
      "\t\t Muskoka\n",
      "Linked Entities:\n",
      "\n",
      "\tName:  Sunset \tId:  Sunset \tUrl:  https://en.wikipedia.org/wiki/Sunset \n",
      "\tData Source:  Wikipedia\n",
      "\tMatches:\n",
      "\t\tText: Sunset\n",
      "\t\tConfidence Score: 0.04\n",
      "\t\tOffset: 0\n",
      "\t\tLength: 6\n",
      "\tName:  District Municipality of Muskoka \tId:  District Municipality of Muskoka \tUrl:  https://en.wikipedia.org/wiki/District_Municipality_of_Muskoka \n",
      "\tData Source:  Wikipedia\n",
      "\tMatches:\n",
      "\t\tText: Muskoka\n",
      "\t\tConfidence Score: 0.19\n",
      "\t\tOffset: 23\n",
      "\t\tLength: 7\n",
      "Recognized: Sunset at the lakes of Muskoka.\n"
     ]
    },
    {
     "name": "stderr",
     "output_type": "stream",
     "text": [
      "Warning: Falling back to use azure cli login credentials.\n",
      "If you run your code in unattended mode, i.e., where you can't give a user input, then we recommend to use ServicePrincipalAuthentication or MsiAuthentication.\n",
      "Please refer to aka.ms/aml-notebook-auth for different authentication mechanisms in azureml-sdk.\n"
     ]
    },
    {
     "name": "stdout",
     "output_type": "stream",
     "text": [
      "0 - Exit\n",
      "Any number else to test\n"
     ]
    }
   ],
   "source": [
    "#performs one-shot speech recognition from the default microphone\n",
    "# <SpeechRecognitionWithMicrophone>\n",
    "speech_config = speechsdk.SpeechConfig(subscription=os.environ[\"SPEECH_API_KEY\"], region=\"eastus\")\n",
    "# The default language is \"en-us\".\n",
    "speech_recognizer = speechsdk.SpeechRecognizer(speech_config=speech_config)\n",
    "\n",
    "#Steup client for Text Analytics\n",
    "client = authenticate_client(endpoint = os.environ[\"COGSVC_ENDPOINT_MP\"], \n",
    "                                key = os.environ[\"COGSVC_API_KEY_MP\"]\n",
    "                            )   \n",
    "\n",
    "while True:\n",
    "    print(\"0 - Exit\")\n",
    "    print(\"1 - Test\")\n",
    "\n",
    "    num = int(input())\n",
    "    if num==0:\n",
    "        break\n",
    "    print(\"Say something...\")\n",
    "    result = speech_recognizer.recognize_once()\n",
    "\n",
    "    # Check the result\n",
    "    if result.reason == speechsdk.ResultReason.RecognizedSpeech:\n",
    "        print(\"Recognized: {}\".format(result.text))\n",
    "        key_phrase_extraction(client, result.text)\n",
    "        entity_linking(client, result.text)\n",
    "        draw_image(result.text)\n",
    "    elif result.reason == speechsdk.ResultReason.NoMatch:\n",
    "        print(\"No speech could be recognized\")\n",
    "    elif result.reason == speechsdk.ResultReason.Canceled:\n",
    "        cancellation_details = result.cancellation_details\n",
    "        print(\"Speech Recognition canceled: {}\".format(cancellation_details.reason))\n",
    "        if cancellation_details.reason == speechsdk.CancellationReason.Error:\n",
    "            print(\"Error details: {}\".format(cancellation_details.error_details))\n",
    "        "
   ]
  },
  {
   "cell_type": "code",
   "execution_count": null,
   "metadata": {},
   "outputs": [],
   "source": []
  }
 ],
 "metadata": {
  "kernelspec": {
   "display_name": "Python 3.8.3 ('base')",
   "language": "python",
   "name": "python3"
  },
  "language_info": {
   "codemirror_mode": {
    "name": "ipython",
    "version": 3
   },
   "file_extension": ".py",
   "mimetype": "text/x-python",
   "name": "python",
   "nbconvert_exporter": "python",
   "pygments_lexer": "ipython3",
   "version": "3.8.3"
  },
  "orig_nbformat": 4,
  "vscode": {
   "interpreter": {
    "hash": "0ac0e7d245f35f05656c1dae54880a0902b050693b3e66826fb0a7033a44f77d"
   }
  }
 },
 "nbformat": 4,
 "nbformat_minor": 2
}
