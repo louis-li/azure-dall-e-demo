{
 "cells": [
  {
   "cell_type": "code",
   "execution_count": 2,
   "metadata": {},
   "outputs": [
    {
     "name": "stderr",
     "output_type": "stream",
     "text": [
      "Failure while loading azureml_run_type_providers. Failed to load entrypoint hyperdrive = azureml.train.hyperdrive:HyperDriveRun._from_run_dto with exception (cryptography 2.9.2 (c:\\users\\louisli\\miniconda3\\lib\\site-packages), Requirement.parse('cryptography>=3.3.1; extra == \"crypto\"'), {'PyJWT'}).\n",
      "Failure while loading azureml_run_type_providers. Failed to load entrypoint automl = azureml.train.automl.run:AutoMLRun._from_run_dto with exception (cryptography 2.9.2 (c:\\users\\louisli\\miniconda3\\lib\\site-packages), Requirement.parse('cryptography>=3.3.1; extra == \"crypto\"'), {'PyJWT'}).\n",
      "Failure while loading azureml_run_type_providers. Failed to load entrypoint azureml.PipelineRun = azureml.pipeline.core.run:PipelineRun._from_dto with exception (cryptography 2.9.2 (c:\\users\\louisli\\miniconda3\\lib\\site-packages), Requirement.parse('cryptography>=3.3.1; extra == \"crypto\"'), {'PyJWT'}).\n",
      "Failure while loading azureml_run_type_providers. Failed to load entrypoint azureml.ReusedStepRun = azureml.pipeline.core.run:StepRun._from_reused_dto with exception (cryptography 2.9.2 (c:\\users\\louisli\\miniconda3\\lib\\site-packages), Requirement.parse('cryptography>=3.3.1; extra == \"crypto\"'), {'PyJWT'}).\n",
      "Failure while loading azureml_run_type_providers. Failed to load entrypoint azureml.StepRun = azureml.pipeline.core.run:StepRun._from_dto with exception (cryptography 2.9.2 (c:\\users\\louisli\\miniconda3\\lib\\site-packages), Requirement.parse('cryptography>=3.3.1; extra == \"crypto\"'), {'PyJWT'}).\n",
      "Failure while loading azureml_run_type_providers. Failed to load entrypoint azureml.scriptrun = azureml.core.script_run:ScriptRun._from_run_dto with exception (cryptography 2.9.2 (c:\\users\\louisli\\miniconda3\\lib\\site-packages), Requirement.parse('cryptography>=3.3.1; extra == \"crypto\"'), {'PyJWT'}).\n"
     ]
    }
   ],
   "source": [
    "import json, os\n",
    "from azureml.core import Workspace\n",
    "import base64, io\n",
    "from PIL import Image\n",
    "import numpy as np\n",
    "import azure.cognitiveservices.speech as speechsdk\n",
    "from utils import authenticate_client, entity_linking, key_phrase_extraction, draw_image"
   ]
  },
  {
   "cell_type": "code",
   "execution_count": 5,
   "metadata": {},
   "outputs": [
    {
     "name": "stdout",
     "output_type": "stream",
     "text": [
      "Say something...\n",
      "Recognized: The Eiffel Tower is landing on the moon.\n",
      "Key Phrases:\n",
      "\t The Eiffel Tower\n",
      "\t moon\n",
      "Linked Entities:\n",
      "\n",
      "\tName:  Eiffel Tower \tId:  Eiffel Tower \tUrl:  https://en.wikipedia.org/wiki/Eiffel_Tower \n",
      "\tData Source:  Wikipedia\n",
      "\tMatches:\n",
      "\t\tText: Eiffel Tower\n"
     ]
    }
   ],
   "source": [
    "#performs one-shot speech recognition from the default microphone\n",
    "# <SpeechRecognitionWithMicrophone>\n",
    "speech_config = speechsdk.SpeechConfig(subscription=os.environ[\"SPEECH_API_KEY\"], region=\"eastus\")\n",
    "# The default language is \"en-us\".\n",
    "speech_recognizer = speechsdk.SpeechRecognizer(speech_config=speech_config)\n",
    "\n",
    "#Steup client for Text Analytics\n",
    "client = authenticate_client(endpoint = os.environ[\"COGSVC_ENDPOINT_MP\"], \n",
    "                                key = os.environ[\"COGSVC_API_KEY_MP\"]\n",
    "                            )   \n",
    "print(\"Say something...\")\n",
    "result = speech_recognizer.recognize_once()\n",
    "\n",
    "# Check the result\n",
    "if result.reason == speechsdk.ResultReason.RecognizedSpeech:\n",
    "    print(\"Recognized: {}\".format(result.text))\n",
    "    key_phrase_extraction(client, result.text)\n",
    "    entity_linking(client, result.text)\n",
    "    draw_image(result.text)\n",
    "elif result.reason == speechsdk.ResultReason.NoMatch:\n",
    "    print(\"No speech could be recognized\")\n",
    "elif result.reason == speechsdk.ResultReason.Canceled:\n",
    "    cancellation_details = result.cancellation_details\n",
    "    print(\"Speech Recognition canceled: {}\".format(cancellation_details.reason))\n",
    "    if cancellation_details.reason == speechsdk.CancellationReason.Error:\n",
    "        print(\"Error details: {}\".format(cancellation_details.error_details))\n",
    "    "
   ]
  },
  {
   "cell_type": "code",
   "execution_count": null,
   "metadata": {},
   "outputs": [],
   "source": []
  }
 ],
 "metadata": {
  "kernelspec": {
   "display_name": "Python 3.8.3 ('base')",
   "language": "python",
   "name": "python3"
  },
  "language_info": {
   "codemirror_mode": {
    "name": "ipython",
    "version": 3
   },
   "file_extension": ".py",
   "mimetype": "text/x-python",
   "name": "python",
   "nbconvert_exporter": "python",
   "pygments_lexer": "ipython3",
   "version": "3.8.3"
  },
  "orig_nbformat": 4,
  "vscode": {
   "interpreter": {
    "hash": "0ac0e7d245f35f05656c1dae54880a0902b050693b3e66826fb0a7033a44f77d"
   }
  }
 },
 "nbformat": 4,
 "nbformat_minor": 2
}
