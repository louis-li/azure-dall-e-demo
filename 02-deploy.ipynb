{
  "cells": [
    {
      "cell_type": "code",
      "execution_count": 20,
      "metadata": {},
      "outputs": [
        {
          "name": "stdout",
          "output_type": "stream",
          "text": [
            "Overwriting deploy/score.py\n"
          ]
        }
      ],
      "source": [
        "%%writefile deploy/score.py\n",
        "import json, os\n",
        "from io import BytesIO\n",
        "import base64\n",
        "from dalle_model import DalleModel\n",
        "\n",
        "def init(): \n",
        "  global dalle_model\n",
        "  dalle_model = DalleModel('Mega_full')\n",
        "  dalle_model.generate_images(\"CN tower is flying to Mars\", 1)\n",
        "\n",
        "def run(data): \n",
        "  print(data)\n",
        "  input_data = json.loads(data)\n",
        "  # print(input_data)\n",
        "  text_prompt = input_data[\"text\"]\n",
        "  num_images = input_data[\"num_images\"]\n",
        "  generated_imgs = dalle_model.generate_images(text_prompt, num_images)\n",
        "\n",
        "  returned_generated_images = []\n",
        "  \n",
        "  for idx, img in enumerate(generated_imgs):\n",
        "      buffered = BytesIO()\n",
        "      img.save(buffered, format='jpeg')\n",
        "      img_str = base64.b64encode(buffered.getvalue()).decode(\"utf-8\")\n",
        "      returned_generated_images.append(img_str)\n",
        "\n",
        "  print(f\"Created {num_images} images from text prompt [{text_prompt}]\")\n",
        "  \n",
        "  response = {'generatedImgs': returned_generated_images}\n",
        "  return json.dumps(response)"
      ]
    },
    {
      "cell_type": "code",
      "execution_count": 21,
      "metadata": {},
      "outputs": [
        {
          "name": "stdout",
          "output_type": "stream",
          "text": [
            "Tips: You can try get_logs(): https://aka.ms/debugimage#dockerlog or local deployment: https://aka.ms/debugimage#debug-locally to debug if deployment takes longer than 10 minutes.\n",
            "Running\n",
            "2022-10-03 12:14:53+00:00 Creating Container Registry if not exists.\n",
            "2022-10-03 12:14:53+00:00 Registering the environment.\n",
            "2022-10-03 12:14:54+00:00 Use the existing image.\n",
            "2022-10-03 12:14:58+00:00 Checking the status of deployment dall-e-endpoint..\n",
            "2022-10-03 12:17:38+00:00 Checking the status of inference endpoint dall-e-endpoint.\n",
            "Succeeded\n",
            "AKS service creation operation finished, operation \"Succeeded\"\n"
          ]
        }
      ],
      "source": [
        "from azureml.core.model import InferenceConfig, Model\n",
        "from azureml.core import Environment, Workspace\n",
        "from azureml.core.webservice import LocalWebservice, AksWebservice, AciWebservice\n",
        "\n",
        "workspace = Workspace.from_config()\n",
        "\n",
        "service_name = 'dall-e-endpoint'\n",
        "env = Environment.get(workspace=workspace, name=\"dall-e\")\n",
        "\n",
        "inference_config = InferenceConfig(entry_script='score.py', \n",
        "                            source_directory='deploy',\n",
        "                            environment=env)\n",
        "\n",
        "# deploy to AKS cluster\n",
        "deployment_config =  AksWebservice.deploy_configuration(cpu_cores = 4,\n",
        "                                                        memory_gb= 28,\n",
        "                                                        gpu_cores = 1, \n",
        "                                                        compute_target_name='gpu-aks-cluster')\n",
        "\n",
        "service = Model.deploy(\n",
        "    workspace,\n",
        "    name = service_name,\n",
        "    models=[],\n",
        "    inference_config= inference_config,\n",
        "    deployment_config= deployment_config,\n",
        "    overwrite=True,\n",
        ")\n",
        "service.wait_for_deployment(show_output=True)"
      ]
    },
    {
      "cell_type": "markdown",
      "metadata": {
        "nteract": {
          "transient": {
            "deleting": false
          }
        }
      },
      "source": [
        "## Sample code to run DALL-E locally\n",
        "``` python\n",
        "from dalle_model import DalleModel\n",
        "dalle_model = DalleModel('Mega_full')\n",
        "generated_imgs = dalle_model.generate_images(\"CN tower is landing to the moon\", 1)\n",
        "\n",
        "returned_generated_images = []\n",
        "dir_name = os.path.join('images')\n",
        "# Path(dir_name).mkdir(parents=True, exist_ok=True)\n",
        "\n",
        "for idx, img in enumerate(generated_imgs):\n",
        "    img.save(os.path.join(dir_name, f'{idx}.jpg'), format='jpeg')\n",
        "```"
      ]
    }
  ],
  "metadata": {
    "kernel_info": {
      "name": "python3"
    },
    "kernelspec": {
      "display_name": "Python 3 (ipykernel)",
      "language": "python",
      "name": "python3"
    },
    "language_info": {
      "codemirror_mode": {
        "name": "ipython",
        "version": 3
      },
      "file_extension": ".py",
      "mimetype": "text/x-python",
      "name": "python",
      "nbconvert_exporter": "python",
      "pygments_lexer": "ipython3",
      "version": "3.8.5"
    },
    "nteract": {
      "version": "nteract-front-end@1.0.0"
    },
    "orig_nbformat": 4,
    "vscode": {
      "interpreter": {
        "hash": "9169f1d4e16acc976bbb73e323b0dbdf23f1c55e833fb2befffc4fb50ac2de2f"
      }
    }
  },
  "nbformat": 4,
  "nbformat_minor": 0
}
