{
  "cells": [
    {
      "cell_type": "code",
      "source": [
        "dockerfile = \"\"\"\r\n",
        "FROM mcr.microsoft.com/azureml/aifx/stable-ubuntu2004-cu115-py38-torch1110:20220930.1\r\n",
        "\r\n",
        "# Install pip dependencies\r\n",
        "RUN pip install 'ipykernel~=6.0' \\\r\n",
        "                'azureml-core==1.46.0' \\\r\n",
        "\t\t\t\t'azureml-dataset-runtime==1.46.0' \\\r\n",
        "                'azureml-defaults==1.46.0' \\\r\n",
        "\t\t\t\t'azure-ml==0.0.1' \\\r\n",
        "\t\t\t\t'azure-ml-component==0.9.13.post1' \\\r\n",
        "                'azureml-mlflow==1.46.0' \\\r\n",
        "\t\t'azureml-contrib-services==1.46.0' \\\r\n",
        "                'azureml-telemetry==1.46.0' \\\r\n",
        "                'torch-tb-profiler~=0.4.0' \\\r\n",
        "\t\t\t\t'py-spy==0.3.12'\r\n",
        "\r\n",
        "RUN pip install \\\r\n",
        "        azure-ai-ml==0.1.0b5 \\\r\n",
        "        azureml-inference-server-http~=0.7.0 \\\r\n",
        "        inference-schema~=1.4.2.1 \\\r\n",
        "        MarkupSafe==2.0.1 \\\r\n",
        "\t    regex \\\r\n",
        "\t    pybind11 \\\r\n",
        "        'dalle-mini==0.1.1' \\\r\n",
        "        'flax==0.5.0' \\\r\n",
        "        'git+https://github.com/patil-suraj/vqgan-jax.git'\r\n",
        "\r\n",
        "# Install jax[cuda]\r\n",
        "RUN pip install --upgrade \"jax[cuda]\" -f https://storage.googleapis.com/jax-releases/jax_cuda_releases.html\r\n",
        "\r\n",
        "# Inference requirements\r\n",
        "COPY --from=mcr.microsoft.com/azureml/o16n-base/python-assets:20220607.v1 /artifacts /var/\r\n",
        "RUN /var/requirements/install_system_requirements.sh && \\\r\n",
        "    cp /var/configuration/rsyslog.conf /etc/rsyslog.conf && \\\r\n",
        "    cp /var/configuration/nginx.conf /etc/nginx/sites-available/app && \\\r\n",
        "    ln -sf /etc/nginx/sites-available/app /etc/nginx/sites-enabled/app && \\\r\n",
        "    rm -f /etc/nginx/sites-enabled/default\r\n",
        "ENV SVDIR=/var/runit\r\n",
        "ENV WORKER_TIMEOUT=400\r\n",
        "EXPOSE 5001 8883 8888\r\n",
        "\r\n",
        "\r\n",
        "\"\"\""
      ],
      "outputs": [],
      "execution_count": 13,
      "metadata": {
        "jupyter": {
          "source_hidden": false,
          "outputs_hidden": false
        },
        "nteract": {
          "transient": {
            "deleting": false
          }
        }
      }
    },
    {
      "cell_type": "code",
      "source": [
        "from azureml.core import Workspace, Environment\n",
        "workspace = Workspace.from_config()\n",
        "\n",
        "dalle_env = Environment(name = 'dall-e')\n",
        "dalle_env.docker.enabled = True\n",
        "dalle_env.docker.base_image = None\n",
        "dalle_env.python.user_managed_dependencies = True\n",
        "dalle_env.docker.base_dockerfile = dockerfile\n",
        "dalle_env.inferencing_stack_version = \"latest\"\n",
        "dalle_env.register(workspace=workspace)\n",
        "\n",
        "# dalle_env.build_local(workspace, useDocker=True, pushImageToWorkspaceAcr=True)\n",
        "dalle_env.build(workspace)"
      ],
      "outputs": [
        {
          "output_type": "stream",
          "name": "stderr",
          "text": "'enabled' is deprecated. Please use the azureml.core.runconfig.DockerConfiguration object with the 'use_docker' param instead.\nBuilding a non-registered environment is not supported. Registering environment.\n"
        },
        {
          "output_type": "execute_result",
          "execution_count": 14,
          "data": {
            "text/plain": "<azureml.core.environment.ImageBuildDetails at 0x7f548ab49e20>"
          },
          "metadata": {}
        }
      ],
      "execution_count": 14,
      "metadata": {}
    },
    {
      "cell_type": "code",
      "source": [],
      "outputs": [],
      "execution_count": null,
      "metadata": {}
    }
  ],
  "metadata": {
    "kernelspec": {
      "name": "python3",
      "language": "python",
      "display_name": "Python 3 (ipykernel)"
    },
    "language_info": {
      "name": "python",
      "version": "3.8.5",
      "mimetype": "text/x-python",
      "codemirror_mode": {
        "name": "ipython",
        "version": 3
      },
      "pygments_lexer": "ipython3",
      "nbconvert_exporter": "python",
      "file_extension": ".py"
    },
    "orig_nbformat": 4,
    "vscode": {
      "interpreter": {
        "hash": "6d65a8c07f5b6469e0fc613f182488c0dccce05038bbda39e5ac9075c0454d11"
      }
    },
    "kernel_info": {
      "name": "python3"
    },
    "nteract": {
      "version": "nteract-front-end@1.0.0"
    }
  },
  "nbformat": 4,
  "nbformat_minor": 0
}