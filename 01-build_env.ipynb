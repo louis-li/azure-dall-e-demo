{
  "cells": [
    {
      "cell_type": "code",
      "source": [
        "dockerfile = \"\"\"\n",
        "FROM mcr.microsoft.com/azureml/openmpi4.1.0-cuda11.1-cudnn8-ubuntu18.04:20220902.v1\n",
        "\n",
        "ENV AZUREML_CONDA_ENVIRONMENT_PATH /azureml-envs/pytorch-1.10\n",
        "# Create conda environment\n",
        "RUN conda create -p $AZUREML_CONDA_ENVIRONMENT_PATH \\\n",
        "    python=3.8.5 \\\n",
        "    pip=22.1.2 \\\n",
        "    pytorch=1.12.1 \\\n",
        "    torchvision=0.13.1 \\\n",
        "    torchaudio=0.12.1 \\\n",
        "    cudatoolkit=11.1 \\\n",
        "    nvidia-apex=0.1.0 \\\n",
        "    gxx_linux-64 \\\n",
        "    -c anaconda -c pytorch -c conda-forge\n",
        "\n",
        "# Prepend path to AzureML conda environment\n",
        "ENV PATH $AZUREML_CONDA_ENVIRONMENT_PATH/bin:$PATH\n",
        "\n",
        "# Install pip dependencies\n",
        "RUN pip install 'matplotlib>==3.5.3' \\\n",
        "                'psutil>=5.8,<5.9' \\\n",
        "                'tqdm>=4.64' \\\n",
        "                'pandas==1.4.3' \\\n",
        "                'scipy==1.9.0' \\\n",
        "                'numpy==1.23.2' \\\n",
        "                'ipykernel~=6.15' \\\n",
        "                'azure-core<1.23.0' \\\n",
        "                'azureml-core==1.45.0' \\\n",
        "                'azureml-defaults==1.45.0' \\\n",
        "                'azureml-mlflow==1.45.0' \\\n",
        "                'azureml-telemetry==1.45.0' \\\n",
        "                'tensorboard==2.9.1' \\\n",
        "                'tensorflow-gpu==2.9.1' \\\n",
        "                'onnxruntime-gpu==1.12.1' \\\n",
        "                'future==0.18.2' \\\n",
        "                'torch-tb-profiler==0.4.0' \\\n",
        "                'dalle-mini==0.1.1' \\\n",
        "                'flax==0.5.0' \\\n",
        "                'git+https://github.com/patil-suraj/vqgan-jax.git'\n",
        "\n",
        "\n",
        "# This is needed for mpi to locate libpython\n",
        "ENV LD_LIBRARY_PATH $AZUREML_CONDA_ENVIRONMENT_PATH/lib:$LD_LIBRARY_PATH\n",
        "\n",
        "# Install jax[cuda]\n",
        "RUN pip install --upgrade \"jax[cuda]\" -f https://storage.googleapis.com/jax-releases/jax_cuda_releases.html\n",
        "\"\"\""
      ],
      "outputs": [],
      "execution_count": 11,
      "metadata": {}
    },
    {
      "cell_type": "code",
      "source": [
        "dockerfile = \"\"\"\r\n",
        "FROM mcr.microsoft.com/azureml/aifx/stable-ubuntu2004-cu115-py38-torch1110:20220930.1\r\n",
        "\r\n",
        "# Install pip dependencies\r\n",
        "RUN pip install 'ipykernel~=6.0' \\\r\n",
        "                'azureml-core==1.46.0' \\\r\n",
        "\t\t\t\t'azureml-dataset-runtime==1.46.0' \\\r\n",
        "                'azureml-defaults==1.46.0' \\\r\n",
        "\t\t\t\t'azure-ml==0.0.1' \\\r\n",
        "\t\t\t\t'azure-ml-component==0.9.13.post1' \\\r\n",
        "                'azureml-mlflow==1.46.0' \\\r\n",
        "\t\t'azureml-contrib-services==1.46.0' \\\r\n",
        "                'azureml-telemetry==1.46.0' \\\r\n",
        "                'torch-tb-profiler~=0.4.0' \\\r\n",
        "\t\t\t\t'py-spy==0.3.12'\r\n",
        "\r\n",
        "RUN pip install \\\r\n",
        "        azure-ai-ml==0.1.0b5 \\\r\n",
        "        azureml-inference-server-http~=0.7.0 \\\r\n",
        "        inference-schema~=1.4.2.1 \\\r\n",
        "        MarkupSafe==2.0.1 \\\r\n",
        "\t    regex \\\r\n",
        "\t    pybind11 \\\r\n",
        "        'dalle-mini==0.1.1' \\\r\n",
        "        'flax==0.5.0' \\\r\n",
        "        'git+https://github.com/patil-suraj/vqgan-jax.git'\r\n",
        "\r\n",
        "# Install jax[cuda]\r\n",
        "RUN pip install --upgrade \"jax[cuda]\" -f https://storage.googleapis.com/jax-releases/jax_cuda_releases.html\r\n",
        "\r\n",
        "# Inference requirements\r\n",
        "COPY --from=mcr.microsoft.com/azureml/o16n-base/python-assets:20220607.v1 /artifacts /var/\r\n",
        "RUN /var/requirements/install_system_requirements.sh && \\\r\n",
        "    cp /var/configuration/rsyslog.conf /etc/rsyslog.conf && \\\r\n",
        "    cp /var/configuration/nginx.conf /etc/nginx/sites-available/app && \\\r\n",
        "    ln -sf /etc/nginx/sites-available/app /etc/nginx/sites-enabled/app && \\\r\n",
        "    rm -f /etc/nginx/sites-enabled/default\r\n",
        "ENV SVDIR=/var/runit\r\n",
        "ENV WORKER_TIMEOUT=400\r\n",
        "EXPOSE 5001 8883 8888\r\n",
        "\r\n",
        "\r\n",
        "\"\"\""
      ],
      "outputs": [],
      "execution_count": 13,
      "metadata": {
        "jupyter": {
          "source_hidden": false,
          "outputs_hidden": false
        },
        "nteract": {
          "transient": {
            "deleting": false
          }
        }
      }
    },
    {
      "cell_type": "code",
      "source": [
        "from azureml.core import Workspace, Environment\n",
        "workspace = Workspace.from_config()\n",
        "\n",
        "dalle_env = Environment(name = 'dall-e')\n",
        "dalle_env.docker.enabled = True\n",
        "dalle_env.docker.base_image = None\n",
        "dalle_env.python.user_managed_dependencies = True\n",
        "dalle_env.docker.base_dockerfile = dockerfile\n",
        "dalle_env.inferencing_stack_version = \"latest\"\n",
        "dalle_env.register(workspace=workspace)\n",
        "\n",
        "# dalle_env.build_local(workspace, useDocker=True, pushImageToWorkspaceAcr=True)\n",
        "dalle_env.build(workspace)"
      ],
      "outputs": [
        {
          "output_type": "stream",
          "name": "stderr",
          "text": "'enabled' is deprecated. Please use the azureml.core.runconfig.DockerConfiguration object with the 'use_docker' param instead.\nBuilding a non-registered environment is not supported. Registering environment.\n"
        },
        {
          "output_type": "execute_result",
          "execution_count": 14,
          "data": {
            "text/plain": "<azureml.core.environment.ImageBuildDetails at 0x7f548ab49e20>"
          },
          "metadata": {}
        }
      ],
      "execution_count": 14,
      "metadata": {}
    },
    {
      "cell_type": "code",
      "source": [],
      "outputs": [],
      "execution_count": null,
      "metadata": {}
    }
  ],
  "metadata": {
    "kernelspec": {
      "name": "python3",
      "language": "python",
      "display_name": "Python 3 (ipykernel)"
    },
    "language_info": {
      "name": "python",
      "version": "3.8.5",
      "mimetype": "text/x-python",
      "codemirror_mode": {
        "name": "ipython",
        "version": 3
      },
      "pygments_lexer": "ipython3",
      "nbconvert_exporter": "python",
      "file_extension": ".py"
    },
    "orig_nbformat": 4,
    "vscode": {
      "interpreter": {
        "hash": "6d65a8c07f5b6469e0fc613f182488c0dccce05038bbda39e5ac9075c0454d11"
      }
    },
    "kernel_info": {
      "name": "python3"
    },
    "nteract": {
      "version": "nteract-front-end@1.0.0"
    }
  },
  "nbformat": 4,
  "nbformat_minor": 0
}